{
 "cells": [
  {
   "cell_type": "markdown",
   "metadata": {},
   "source": [
    "# SUMMER ANALYTICS 2021\n",
    "\n",
    "## WEEK-4 ASSIGNMENT"
   ]
  },
  {
   "cell_type": "code",
   "execution_count": 1,
   "metadata": {},
   "outputs": [],
   "source": [
    "import pandas as pd\n",
    "import numpy as np\n",
    "import seaborn as sns\n",
    "import matplotlib.pyplot as plt\n",
    "%matplotlib inline\n",
    "import sklearn\n",
    "import IPython.display as ipd\n",
    "from IPython.display import Image\n",
    "import warnings\n",
    "warnings.filterwarnings('ignore')"
   ]
  },
  {
   "cell_type": "markdown",
   "metadata": {},
   "source": [
    "### Let's explore the dataset shall we?\n",
    "Music conoeisseurs have been trying for a long time to understand sound and what differenciates one song from another. How to visualize sound. What makes a tone different from another.\n",
    "\n",
    "In this notebook we will go through an in depth analysis of sound and how we can **classify and ultimately understand** it.\n",
    "\n",
    "I suggest you to use the internet before asking a doubt. Most of your doubts will disappear once you read the documentation or search StackOverflow! \n",
    "\n",
    "**Note**: Pay close attention to the markdown cells and the comments."
   ]
  },
  {
   "cell_type": "code",
   "execution_count": 2,
   "metadata": {},
   "outputs": [
    {
     "data": {
      "text/html": [
       "<div>\n",
       "<style scoped>\n",
       "    .dataframe tbody tr th:only-of-type {\n",
       "        vertical-align: middle;\n",
       "    }\n",
       "\n",
       "    .dataframe tbody tr th {\n",
       "        vertical-align: top;\n",
       "    }\n",
       "\n",
       "    .dataframe thead th {\n",
       "        text-align: right;\n",
       "    }\n",
       "</style>\n",
       "<table border=\"1\" class=\"dataframe\">\n",
       "  <thead>\n",
       "    <tr style=\"text-align: right;\">\n",
       "      <th></th>\n",
       "      <th>length</th>\n",
       "      <th>chroma_stft_mean</th>\n",
       "      <th>chroma_stft_var</th>\n",
       "      <th>rms_mean</th>\n",
       "      <th>rms_var</th>\n",
       "      <th>spectral_centroid_mean</th>\n",
       "      <th>spectral_centroid_var</th>\n",
       "      <th>spectral_bandwidth_mean</th>\n",
       "      <th>spectral_bandwidth_var</th>\n",
       "      <th>rolloff_mean</th>\n",
       "      <th>...</th>\n",
       "      <th>mfcc16_var</th>\n",
       "      <th>mfcc17_mean</th>\n",
       "      <th>mfcc17_var</th>\n",
       "      <th>mfcc18_mean</th>\n",
       "      <th>mfcc18_var</th>\n",
       "      <th>mfcc19_mean</th>\n",
       "      <th>mfcc19_var</th>\n",
       "      <th>mfcc20_mean</th>\n",
       "      <th>mfcc20_var</th>\n",
       "      <th>label</th>\n",
       "    </tr>\n",
       "  </thead>\n",
       "  <tbody>\n",
       "    <tr>\n",
       "      <th>0</th>\n",
       "      <td>66149</td>\n",
       "      <td>0.335406</td>\n",
       "      <td>0.091048</td>\n",
       "      <td>0.130405</td>\n",
       "      <td>0.003521</td>\n",
       "      <td>1773.065032</td>\n",
       "      <td>167541.63090</td>\n",
       "      <td>1972.744388</td>\n",
       "      <td>117335.77160</td>\n",
       "      <td>3714.560359</td>\n",
       "      <td>...</td>\n",
       "      <td>39.687145</td>\n",
       "      <td>-3.241280</td>\n",
       "      <td>36.488243</td>\n",
       "      <td>0.722209</td>\n",
       "      <td>38.099152</td>\n",
       "      <td>-5.050335</td>\n",
       "      <td>33.618073</td>\n",
       "      <td>-0.243027</td>\n",
       "      <td>43.771767</td>\n",
       "      <td>blues</td>\n",
       "    </tr>\n",
       "    <tr>\n",
       "      <th>1</th>\n",
       "      <td>66149</td>\n",
       "      <td>0.343065</td>\n",
       "      <td>0.086147</td>\n",
       "      <td>0.112699</td>\n",
       "      <td>0.001450</td>\n",
       "      <td>1816.693777</td>\n",
       "      <td>90525.69087</td>\n",
       "      <td>2010.051501</td>\n",
       "      <td>65671.87567</td>\n",
       "      <td>3869.682242</td>\n",
       "      <td>...</td>\n",
       "      <td>64.748276</td>\n",
       "      <td>-6.055294</td>\n",
       "      <td>40.677654</td>\n",
       "      <td>0.159015</td>\n",
       "      <td>51.264091</td>\n",
       "      <td>-2.837699</td>\n",
       "      <td>97.030830</td>\n",
       "      <td>5.784063</td>\n",
       "      <td>59.943081</td>\n",
       "      <td>blues</td>\n",
       "    </tr>\n",
       "  </tbody>\n",
       "</table>\n",
       "<p>2 rows × 59 columns</p>\n",
       "</div>"
      ],
      "text/plain": [
       "   length  chroma_stft_mean  chroma_stft_var  rms_mean   rms_var  \\\n",
       "0   66149          0.335406         0.091048  0.130405  0.003521   \n",
       "1   66149          0.343065         0.086147  0.112699  0.001450   \n",
       "\n",
       "   spectral_centroid_mean  spectral_centroid_var  spectral_bandwidth_mean  \\\n",
       "0             1773.065032           167541.63090              1972.744388   \n",
       "1             1816.693777            90525.69087              2010.051501   \n",
       "\n",
       "   spectral_bandwidth_var  rolloff_mean  ...  mfcc16_var  mfcc17_mean  \\\n",
       "0            117335.77160   3714.560359  ...   39.687145    -3.241280   \n",
       "1             65671.87567   3869.682242  ...   64.748276    -6.055294   \n",
       "\n",
       "   mfcc17_var  mfcc18_mean  mfcc18_var  mfcc19_mean  mfcc19_var  mfcc20_mean  \\\n",
       "0   36.488243     0.722209   38.099152    -5.050335   33.618073    -0.243027   \n",
       "1   40.677654     0.159015   51.264091    -2.837699   97.030830     5.784063   \n",
       "\n",
       "   mfcc20_var  label  \n",
       "0   43.771767  blues  \n",
       "1   59.943081  blues  \n",
       "\n",
       "[2 rows x 59 columns]"
      ]
     },
     "execution_count": 2,
     "metadata": {},
     "output_type": "execute_result"
    }
   ],
   "source": [
    "# Read the csv file as data\n",
    "from pandas import*\n",
    "data = read_csv(\"SA2021_W4_Music.csv\")\n",
    "# you may print first few rows\n",
    "data.head(2)"
   ]
  },
  {
   "cell_type": "code",
   "execution_count": 3,
   "metadata": {},
   "outputs": [
    {
     "data": {
      "text/html": [
       "<div>\n",
       "<style scoped>\n",
       "    .dataframe tbody tr th:only-of-type {\n",
       "        vertical-align: middle;\n",
       "    }\n",
       "\n",
       "    .dataframe tbody tr th {\n",
       "        vertical-align: top;\n",
       "    }\n",
       "\n",
       "    .dataframe thead th {\n",
       "        text-align: right;\n",
       "    }\n",
       "</style>\n",
       "<table border=\"1\" class=\"dataframe\">\n",
       "  <thead>\n",
       "    <tr style=\"text-align: right;\">\n",
       "      <th></th>\n",
       "      <th>length</th>\n",
       "      <th>chroma_stft_mean</th>\n",
       "      <th>chroma_stft_var</th>\n",
       "      <th>rms_mean</th>\n",
       "      <th>rms_var</th>\n",
       "      <th>spectral_centroid_mean</th>\n",
       "      <th>spectral_centroid_var</th>\n",
       "      <th>spectral_bandwidth_mean</th>\n",
       "      <th>spectral_bandwidth_var</th>\n",
       "      <th>rolloff_mean</th>\n",
       "      <th>...</th>\n",
       "      <th>mfcc16_mean</th>\n",
       "      <th>mfcc16_var</th>\n",
       "      <th>mfcc17_mean</th>\n",
       "      <th>mfcc17_var</th>\n",
       "      <th>mfcc18_mean</th>\n",
       "      <th>mfcc18_var</th>\n",
       "      <th>mfcc19_mean</th>\n",
       "      <th>mfcc19_var</th>\n",
       "      <th>mfcc20_mean</th>\n",
       "      <th>mfcc20_var</th>\n",
       "    </tr>\n",
       "  </thead>\n",
       "  <tbody>\n",
       "    <tr>\n",
       "      <th>count</th>\n",
       "      <td>9990.0</td>\n",
       "      <td>9990.000000</td>\n",
       "      <td>9990.000000</td>\n",
       "      <td>9990.000000</td>\n",
       "      <td>9.990000e+03</td>\n",
       "      <td>9990.000000</td>\n",
       "      <td>9.990000e+03</td>\n",
       "      <td>9990.000000</td>\n",
       "      <td>9.990000e+03</td>\n",
       "      <td>9990.000000</td>\n",
       "      <td>...</td>\n",
       "      <td>9990.000000</td>\n",
       "      <td>9990.000000</td>\n",
       "      <td>9990.000000</td>\n",
       "      <td>9990.000000</td>\n",
       "      <td>9990.000000</td>\n",
       "      <td>9990.000000</td>\n",
       "      <td>9990.000000</td>\n",
       "      <td>9990.000000</td>\n",
       "      <td>9990.000000</td>\n",
       "      <td>9990.000000</td>\n",
       "    </tr>\n",
       "    <tr>\n",
       "      <th>mean</th>\n",
       "      <td>66149.0</td>\n",
       "      <td>0.379534</td>\n",
       "      <td>0.084876</td>\n",
       "      <td>0.130859</td>\n",
       "      <td>2.676388e-03</td>\n",
       "      <td>2199.219431</td>\n",
       "      <td>4.166727e+05</td>\n",
       "      <td>2241.385959</td>\n",
       "      <td>1.182711e+05</td>\n",
       "      <td>4566.076592</td>\n",
       "      <td>...</td>\n",
       "      <td>1.448240</td>\n",
       "      <td>49.988755</td>\n",
       "      <td>-4.198706</td>\n",
       "      <td>51.962753</td>\n",
       "      <td>0.739943</td>\n",
       "      <td>52.488851</td>\n",
       "      <td>-2.497306</td>\n",
       "      <td>54.973829</td>\n",
       "      <td>-0.917584</td>\n",
       "      <td>57.322614</td>\n",
       "    </tr>\n",
       "    <tr>\n",
       "      <th>std</th>\n",
       "      <td>0.0</td>\n",
       "      <td>0.090466</td>\n",
       "      <td>0.009637</td>\n",
       "      <td>0.068545</td>\n",
       "      <td>3.585628e-03</td>\n",
       "      <td>751.860611</td>\n",
       "      <td>4.349644e+05</td>\n",
       "      <td>543.854449</td>\n",
       "      <td>1.013505e+05</td>\n",
       "      <td>1642.065335</td>\n",
       "      <td>...</td>\n",
       "      <td>5.735149</td>\n",
       "      <td>34.442816</td>\n",
       "      <td>5.677379</td>\n",
       "      <td>36.400669</td>\n",
       "      <td>5.181313</td>\n",
       "      <td>38.177120</td>\n",
       "      <td>5.111799</td>\n",
       "      <td>41.585677</td>\n",
       "      <td>5.253243</td>\n",
       "      <td>46.444212</td>\n",
       "    </tr>\n",
       "    <tr>\n",
       "      <th>min</th>\n",
       "      <td>66149.0</td>\n",
       "      <td>0.107108</td>\n",
       "      <td>0.015345</td>\n",
       "      <td>0.000953</td>\n",
       "      <td>4.380000e-08</td>\n",
       "      <td>472.741636</td>\n",
       "      <td>8.118813e+02</td>\n",
       "      <td>499.162910</td>\n",
       "      <td>1.183520e+03</td>\n",
       "      <td>658.336276</td>\n",
       "      <td>...</td>\n",
       "      <td>-26.850016</td>\n",
       "      <td>1.325786</td>\n",
       "      <td>-27.809795</td>\n",
       "      <td>1.624544</td>\n",
       "      <td>-20.733809</td>\n",
       "      <td>3.437439</td>\n",
       "      <td>-27.448456</td>\n",
       "      <td>3.065302</td>\n",
       "      <td>-35.640659</td>\n",
       "      <td>0.282131</td>\n",
       "    </tr>\n",
       "    <tr>\n",
       "      <th>25%</th>\n",
       "      <td>66149.0</td>\n",
       "      <td>0.315698</td>\n",
       "      <td>0.079833</td>\n",
       "      <td>0.083782</td>\n",
       "      <td>6.145900e-04</td>\n",
       "      <td>1630.680158</td>\n",
       "      <td>1.231961e+05</td>\n",
       "      <td>1887.455789</td>\n",
       "      <td>4.876553e+04</td>\n",
       "      <td>3378.311110</td>\n",
       "      <td>...</td>\n",
       "      <td>-2.227478</td>\n",
       "      <td>29.584894</td>\n",
       "      <td>-7.951722</td>\n",
       "      <td>29.863448</td>\n",
       "      <td>-2.516638</td>\n",
       "      <td>29.636197</td>\n",
       "      <td>-5.734123</td>\n",
       "      <td>30.496412</td>\n",
       "      <td>-4.004475</td>\n",
       "      <td>30.011365</td>\n",
       "    </tr>\n",
       "    <tr>\n",
       "      <th>50%</th>\n",
       "      <td>66149.0</td>\n",
       "      <td>0.384741</td>\n",
       "      <td>0.085108</td>\n",
       "      <td>0.121253</td>\n",
       "      <td>1.491318e-03</td>\n",
       "      <td>2208.628236</td>\n",
       "      <td>2.650692e+05</td>\n",
       "      <td>2230.575595</td>\n",
       "      <td>8.996072e+04</td>\n",
       "      <td>4631.377892</td>\n",
       "      <td>...</td>\n",
       "      <td>1.461623</td>\n",
       "      <td>41.702393</td>\n",
       "      <td>-4.443021</td>\n",
       "      <td>42.393583</td>\n",
       "      <td>0.733772</td>\n",
       "      <td>41.831377</td>\n",
       "      <td>-2.702366</td>\n",
       "      <td>43.435253</td>\n",
       "      <td>-1.030939</td>\n",
       "      <td>44.332155</td>\n",
       "    </tr>\n",
       "    <tr>\n",
       "      <th>75%</th>\n",
       "      <td>66149.0</td>\n",
       "      <td>0.442443</td>\n",
       "      <td>0.091092</td>\n",
       "      <td>0.176328</td>\n",
       "      <td>3.130863e-03</td>\n",
       "      <td>2712.581883</td>\n",
       "      <td>5.624152e+05</td>\n",
       "      <td>2588.340505</td>\n",
       "      <td>1.585674e+05</td>\n",
       "      <td>5591.634521</td>\n",
       "      <td>...</td>\n",
       "      <td>5.149752</td>\n",
       "      <td>59.274619</td>\n",
       "      <td>-0.726945</td>\n",
       "      <td>61.676964</td>\n",
       "      <td>3.888734</td>\n",
       "      <td>62.033906</td>\n",
       "      <td>0.514246</td>\n",
       "      <td>65.328602</td>\n",
       "      <td>2.216603</td>\n",
       "      <td>68.210421</td>\n",
       "    </tr>\n",
       "    <tr>\n",
       "      <th>max</th>\n",
       "      <td>66149.0</td>\n",
       "      <td>0.749481</td>\n",
       "      <td>0.120964</td>\n",
       "      <td>0.442567</td>\n",
       "      <td>3.261522e-02</td>\n",
       "      <td>5432.534406</td>\n",
       "      <td>4.794119e+06</td>\n",
       "      <td>3708.147554</td>\n",
       "      <td>1.235143e+06</td>\n",
       "      <td>9487.446477</td>\n",
       "      <td>...</td>\n",
       "      <td>39.144405</td>\n",
       "      <td>683.932556</td>\n",
       "      <td>34.048843</td>\n",
       "      <td>529.363342</td>\n",
       "      <td>36.970322</td>\n",
       "      <td>629.729797</td>\n",
       "      <td>31.365425</td>\n",
       "      <td>1143.230591</td>\n",
       "      <td>34.212101</td>\n",
       "      <td>910.473206</td>\n",
       "    </tr>\n",
       "  </tbody>\n",
       "</table>\n",
       "<p>8 rows × 58 columns</p>\n",
       "</div>"
      ],
      "text/plain": [
       "        length  chroma_stft_mean  chroma_stft_var     rms_mean       rms_var  \\\n",
       "count   9990.0       9990.000000      9990.000000  9990.000000  9.990000e+03   \n",
       "mean   66149.0          0.379534         0.084876     0.130859  2.676388e-03   \n",
       "std        0.0          0.090466         0.009637     0.068545  3.585628e-03   \n",
       "min    66149.0          0.107108         0.015345     0.000953  4.380000e-08   \n",
       "25%    66149.0          0.315698         0.079833     0.083782  6.145900e-04   \n",
       "50%    66149.0          0.384741         0.085108     0.121253  1.491318e-03   \n",
       "75%    66149.0          0.442443         0.091092     0.176328  3.130863e-03   \n",
       "max    66149.0          0.749481         0.120964     0.442567  3.261522e-02   \n",
       "\n",
       "       spectral_centroid_mean  spectral_centroid_var  spectral_bandwidth_mean  \\\n",
       "count             9990.000000           9.990000e+03              9990.000000   \n",
       "mean              2199.219431           4.166727e+05              2241.385959   \n",
       "std                751.860611           4.349644e+05               543.854449   \n",
       "min                472.741636           8.118813e+02               499.162910   \n",
       "25%               1630.680158           1.231961e+05              1887.455789   \n",
       "50%               2208.628236           2.650692e+05              2230.575595   \n",
       "75%               2712.581883           5.624152e+05              2588.340505   \n",
       "max               5432.534406           4.794119e+06              3708.147554   \n",
       "\n",
       "       spectral_bandwidth_var  rolloff_mean  ...  mfcc16_mean   mfcc16_var  \\\n",
       "count            9.990000e+03   9990.000000  ...  9990.000000  9990.000000   \n",
       "mean             1.182711e+05   4566.076592  ...     1.448240    49.988755   \n",
       "std              1.013505e+05   1642.065335  ...     5.735149    34.442816   \n",
       "min              1.183520e+03    658.336276  ...   -26.850016     1.325786   \n",
       "25%              4.876553e+04   3378.311110  ...    -2.227478    29.584894   \n",
       "50%              8.996072e+04   4631.377892  ...     1.461623    41.702393   \n",
       "75%              1.585674e+05   5591.634521  ...     5.149752    59.274619   \n",
       "max              1.235143e+06   9487.446477  ...    39.144405   683.932556   \n",
       "\n",
       "       mfcc17_mean   mfcc17_var  mfcc18_mean   mfcc18_var  mfcc19_mean  \\\n",
       "count  9990.000000  9990.000000  9990.000000  9990.000000  9990.000000   \n",
       "mean     -4.198706    51.962753     0.739943    52.488851    -2.497306   \n",
       "std       5.677379    36.400669     5.181313    38.177120     5.111799   \n",
       "min     -27.809795     1.624544   -20.733809     3.437439   -27.448456   \n",
       "25%      -7.951722    29.863448    -2.516638    29.636197    -5.734123   \n",
       "50%      -4.443021    42.393583     0.733772    41.831377    -2.702366   \n",
       "75%      -0.726945    61.676964     3.888734    62.033906     0.514246   \n",
       "max      34.048843   529.363342    36.970322   629.729797    31.365425   \n",
       "\n",
       "        mfcc19_var  mfcc20_mean   mfcc20_var  \n",
       "count  9990.000000  9990.000000  9990.000000  \n",
       "mean     54.973829    -0.917584    57.322614  \n",
       "std      41.585677     5.253243    46.444212  \n",
       "min       3.065302   -35.640659     0.282131  \n",
       "25%      30.496412    -4.004475    30.011365  \n",
       "50%      43.435253    -1.030939    44.332155  \n",
       "75%      65.328602     2.216603    68.210421  \n",
       "max    1143.230591    34.212101   910.473206  \n",
       "\n",
       "[8 rows x 58 columns]"
      ]
     },
     "execution_count": 3,
     "metadata": {},
     "output_type": "execute_result"
    }
   ],
   "source": [
    "data.describe()"
   ]
  },
  {
   "cell_type": "code",
   "execution_count": null,
   "metadata": {},
   "outputs": [],
   "source": [
    "data.describe().T.style.bar(subset=['mean'], color='#ea9999')\\\n",
    "                   .background_gradient(subset=['std'], cmap='YlOrBr')"
   ]
  },
  {
   "cell_type": "markdown",
   "metadata": {},
   "source": [
    "#### 0. What is the shape of the dataset?\n",
    "\n",
    "Expected Output : (9990, 59)"
   ]
  },
  {
   "cell_type": "code",
   "execution_count": 7,
   "metadata": {},
   "outputs": [
    {
     "data": {
      "text/plain": [
       "(9990, 59)"
      ]
     },
     "execution_count": 7,
     "metadata": {},
     "output_type": "execute_result"
    }
   ],
   "source": [
    "#YOUR CODE HERE\n",
    "data.shape"
   ]
  },
  {
   "cell_type": "code",
   "execution_count": null,
   "metadata": {},
   "outputs": [],
   "source": [
    "data.isnull().sum()"
   ]
  },
  {
   "cell_type": "markdown",
   "metadata": {},
   "source": [
    "## Since we now know basic EDA, let's try to visualize this dataset:"
   ]
  },
  {
   "cell_type": "markdown",
   "metadata": {},
   "source": [
    "1. #### Plot Correlation heatmap for all the mean variables [Columns based on Mean]:\n",
    "\n"
   ]
  },
  {
   "cell_type": "code",
   "execution_count": 41,
   "metadata": {
    "scrolled": true
   },
   "outputs": [],
   "source": [
    "#rms_mean and chroma_stft_mean = 0.424706\n",
    "#mfcc11_mean and rms_mean:0.133593\n",
    "#harmony_mean and chroma_stft_mean:0.034305\n",
    "#harmony_mean and rms_mean: 0.065134"
   ]
  },
  {
   "cell_type": "code",
   "execution_count": 4,
   "metadata": {},
   "outputs": [
    {
     "name": "stdout",
     "output_type": "stream",
     "text": [
      "0.424706\n",
      "0.034305\n"
     ]
    }
   ],
   "source": [
    "Least Important FeatureLeast = ['0.424706','0.133593','0.034305', '0.065134']\n",
    "print(max(Least))\n",
    "print(min(Least))"
   ]
  },
  {
   "cell_type": "code",
   "execution_count": null,
   "metadata": {},
   "outputs": [],
   "source": [
    "#spectral_bandwidth_mean and mfcc2_mean:0.887156\n",
    "#spectral_centroid_mean and mfcc2_mean:0.931435\n",
    "#rolloff_mean and spectral_centroid_mean:0.974360\n",
    "#roloff_mean and mfcc2_mean:0.923652"
   ]
  },
  {
   "cell_type": "code",
   "execution_count": 5,
   "metadata": {},
   "outputs": [
    {
     "name": "stdout",
     "output_type": "stream",
     "text": [
      "0.974360\n",
      "0.887156\n"
     ]
    }
   ],
   "source": [
    "Least1 = ['0.887156','0.931435','0.974360', '0.923652']\n",
    "print(max(Least1))\n",
    "print(min(Least1))"
   ]
  },
  {
   "cell_type": "code",
   "execution_count": 31,
   "metadata": {},
   "outputs": [
    {
     "data": {
      "text/html": [
       "<div>\n",
       "<style scoped>\n",
       "    .dataframe tbody tr th:only-of-type {\n",
       "        vertical-align: middle;\n",
       "    }\n",
       "\n",
       "    .dataframe tbody tr th {\n",
       "        vertical-align: top;\n",
       "    }\n",
       "\n",
       "    .dataframe thead th {\n",
       "        text-align: right;\n",
       "    }\n",
       "</style>\n",
       "<table border=\"1\" class=\"dataframe\">\n",
       "  <thead>\n",
       "    <tr style=\"text-align: right;\">\n",
       "      <th></th>\n",
       "      <th>chroma_stft_mean</th>\n",
       "      <th>rms_mean</th>\n",
       "      <th>spectral_centroid_mean</th>\n",
       "      <th>spectral_bandwidth_mean</th>\n",
       "      <th>rolloff_mean</th>\n",
       "      <th>zero_crossing_rate_mean</th>\n",
       "      <th>harmony_mean</th>\n",
       "      <th>perceptr_mean</th>\n",
       "      <th>mfcc1_mean</th>\n",
       "      <th>mfcc2_mean</th>\n",
       "      <th>...</th>\n",
       "      <th>mfcc11_mean</th>\n",
       "      <th>mfcc12_mean</th>\n",
       "      <th>mfcc13_mean</th>\n",
       "      <th>mfcc14_mean</th>\n",
       "      <th>mfcc15_mean</th>\n",
       "      <th>mfcc16_mean</th>\n",
       "      <th>mfcc17_mean</th>\n",
       "      <th>mfcc18_mean</th>\n",
       "      <th>mfcc19_mean</th>\n",
       "      <th>mfcc20_mean</th>\n",
       "    </tr>\n",
       "  </thead>\n",
       "  <tbody>\n",
       "    <tr>\n",
       "      <th>chroma_stft_mean</th>\n",
       "      <td>1.000000</td>\n",
       "      <td>0.424706</td>\n",
       "      <td>0.534670</td>\n",
       "      <td>0.464617</td>\n",
       "      <td>0.526881</td>\n",
       "      <td>0.457080</td>\n",
       "      <td>0.034305</td>\n",
       "      <td>0.109303</td>\n",
       "      <td>0.573974</td>\n",
       "      <td>0.513978</td>\n",
       "      <td>...</td>\n",
       "      <td>0.108459</td>\n",
       "      <td>0.400529</td>\n",
       "      <td>0.036171</td>\n",
       "      <td>0.297993</td>\n",
       "      <td>0.078784</td>\n",
       "      <td>0.228293</td>\n",
       "      <td>0.103968</td>\n",
       "      <td>0.168254</td>\n",
       "      <td>0.062985</td>\n",
       "      <td>0.193666</td>\n",
       "    </tr>\n",
       "    <tr>\n",
       "      <th>rms_mean</th>\n",
       "      <td>0.424706</td>\n",
       "      <td>1.000000</td>\n",
       "      <td>0.470781</td>\n",
       "      <td>0.495142</td>\n",
       "      <td>0.500178</td>\n",
       "      <td>0.293745</td>\n",
       "      <td>0.065134</td>\n",
       "      <td>0.012401</td>\n",
       "      <td>0.795000</td>\n",
       "      <td>0.453606</td>\n",
       "      <td>...</td>\n",
       "      <td>0.133593</td>\n",
       "      <td>0.134779</td>\n",
       "      <td>0.043769</td>\n",
       "      <td>0.113960</td>\n",
       "      <td>0.012184</td>\n",
       "      <td>0.055563</td>\n",
       "      <td>0.013952</td>\n",
       "      <td>0.087615</td>\n",
       "      <td>0.024552</td>\n",
       "      <td>0.082251</td>\n",
       "    </tr>\n",
       "    <tr>\n",
       "      <th>spectral_centroid_mean</th>\n",
       "      <td>0.534670</td>\n",
       "      <td>0.470781</td>\n",
       "      <td>1.000000</td>\n",
       "      <td>0.890382</td>\n",
       "      <td>0.974360</td>\n",
       "      <td>0.865487</td>\n",
       "      <td>0.050559</td>\n",
       "      <td>0.004654</td>\n",
       "      <td>0.686196</td>\n",
       "      <td>0.931435</td>\n",
       "      <td>...</td>\n",
       "      <td>0.144027</td>\n",
       "      <td>0.118541</td>\n",
       "      <td>0.058537</td>\n",
       "      <td>0.118186</td>\n",
       "      <td>0.035098</td>\n",
       "      <td>0.116866</td>\n",
       "      <td>0.026879</td>\n",
       "      <td>0.177934</td>\n",
       "      <td>0.018651</td>\n",
       "      <td>0.191512</td>\n",
       "    </tr>\n",
       "  </tbody>\n",
       "</table>\n",
       "<p>3 rows × 28 columns</p>\n",
       "</div>"
      ],
      "text/plain": [
       "                        chroma_stft_mean  rms_mean  spectral_centroid_mean  \\\n",
       "chroma_stft_mean                1.000000  0.424706                0.534670   \n",
       "rms_mean                        0.424706  1.000000                0.470781   \n",
       "spectral_centroid_mean          0.534670  0.470781                1.000000   \n",
       "\n",
       "                        spectral_bandwidth_mean  rolloff_mean  \\\n",
       "chroma_stft_mean                       0.464617      0.526881   \n",
       "rms_mean                               0.495142      0.500178   \n",
       "spectral_centroid_mean                 0.890382      0.974360   \n",
       "\n",
       "                        zero_crossing_rate_mean  harmony_mean  perceptr_mean  \\\n",
       "chroma_stft_mean                       0.457080      0.034305       0.109303   \n",
       "rms_mean                               0.293745      0.065134       0.012401   \n",
       "spectral_centroid_mean                 0.865487      0.050559       0.004654   \n",
       "\n",
       "                        mfcc1_mean  mfcc2_mean  ...  mfcc11_mean  mfcc12_mean  \\\n",
       "chroma_stft_mean          0.573974    0.513978  ...     0.108459     0.400529   \n",
       "rms_mean                  0.795000    0.453606  ...     0.133593     0.134779   \n",
       "spectral_centroid_mean    0.686196    0.931435  ...     0.144027     0.118541   \n",
       "\n",
       "                        mfcc13_mean  mfcc14_mean  mfcc15_mean  mfcc16_mean  \\\n",
       "chroma_stft_mean           0.036171     0.297993     0.078784     0.228293   \n",
       "rms_mean                   0.043769     0.113960     0.012184     0.055563   \n",
       "spectral_centroid_mean     0.058537     0.118186     0.035098     0.116866   \n",
       "\n",
       "                        mfcc17_mean  mfcc18_mean  mfcc19_mean  mfcc20_mean  \n",
       "chroma_stft_mean           0.103968     0.168254     0.062985     0.193666  \n",
       "rms_mean                   0.013952     0.087615     0.024552     0.082251  \n",
       "spectral_centroid_mean     0.026879     0.177934     0.018651     0.191512  \n",
       "\n",
       "[3 rows x 28 columns]"
      ]
     },
     "execution_count": 31,
     "metadata": {},
     "output_type": "execute_result"
    }
   ],
   "source": [
    "corr.abs().head(3)"
   ]
  },
  {
   "cell_type": "code",
   "execution_count": 7,
   "metadata": {},
   "outputs": [
    {
     "data": {
      "image/png": "[encoded data removed]",
      "text/plain": [
       "<Figure size 1152x792 with 2 Axes>"
      ]
     },
     "metadata": {
      "needs_background": "light"
     },
     "output_type": "display_data"
    }
   ],
   "source": [
    "# Cell to plot heatmap. A few lines to get you started.\n",
    "\n",
    "# cols = [col for col in data.columns if 'mean' in col]\n",
    "# corr = data[cols].corr()\n",
    "\n",
    "# Computing the Correlation Matrix\n",
    "spike_cols = [col for col in data.columns if 'mean' in col]\n",
    "corr = data[spike_cols].corr()\n",
    "\n",
    "# Generate a mask for the upper triangle\n",
    "mask = np.triu(np.ones_like(corr, dtype=np.bool))\n",
    "\n",
    "# Set up the matplotlib figure\n",
    "f, ax = plt.subplots(figsize=(16, 11));\n",
    "\n",
    "# Generate a custom diverging colormap\n",
    "cmap = sns.diverging_palette(0, 25, as_cmap=True, s = 90, l = 45, n = 5)\n",
    "\n",
    "# Draw the heatmap with the mask and correct aspect ratio\n",
    "sns.heatmap(corr, mask=mask, cmap=cmap, vmax=.3, center=0,\n",
    "            square=True, linewidths=.5, cbar_kws={\"shrink\": .5})\n",
    "\n",
    "plt.title('Correlation Heatmap (for the MEAN variables)', fontsize = 20)\n",
    "plt.xticks(fontsize = 10)\n",
    "plt.yticks(fontsize = 10);\n",
    "plt.savefig(\"Corr_Heatmap.png\")"
   ]
  },
  {
   "cell_type": "code",
   "execution_count": 21,
   "metadata": {},
   "outputs": [
    {
     "data": {
      "image/png": "[encoded data removed]",
      "text/plain": [
       "<Figure size 1152x792 with 2 Axes>"
      ]
     },
     "metadata": {
      "needs_background": "light"
     },
     "output_type": "display_data"
    }
   ],
   "source": [
    "# Computing the Correlation Matrix\n",
    "spike_cols = [col for col in data.columns if 'mean' in col]\n",
    "corr = data[spike_cols].corr().abs()\n",
    "\n",
    "# Generate a mask for the upper triangle\n",
    "mask = np.triu(np.ones_like(corr, dtype=np.bool))\n",
    "\n",
    "# Set up the matplotlib figure\n",
    "f, ax = plt.subplots(figsize=(16, 11));\n",
    "\n",
    "# Generate a custom diverging colormap\n",
    "cmap = sns.diverging_palette(0, 25, as_cmap=True, s = 90, l = 45, n = 5)\n",
    "\n",
    "# Draw the heatmap with the mask and correct aspect ratio\n",
    "sns.heatmap(corr, mask=mask, cmap=cmap, vmax=.3, center=0,\n",
    "            square=True, linewidths=.5, cbar_kws={\"shrink\": .5})\n",
    "\n",
    "plt.title('Correlation Heatmap (for the MEAN variables)', fontsize = 20)\n",
    "plt.xticks(fontsize = 10)\n",
    "plt.yticks(fontsize = 10);\n",
    "plt.savefig(\"Corr_Heatmap.png\")"
   ]
  },
  {
   "cell_type": "markdown",
   "metadata": {},
   "source": [
    "2. #### Draw a Countplot for the labels column"
   ]
  },
  {
   "cell_type": "code",
   "execution_count": 20,
   "metadata": {},
   "outputs": [
    {
     "data": {
      "text/plain": [
       "pop          1000\n",
       "jazz         1000\n",
       "metal        1000\n",
       "blues        1000\n",
       "reggae       1000\n",
       "disco         999\n",
       "rock          998\n",
       "hiphop        998\n",
       "classical     998\n",
       "country       997\n",
       "Name: label, dtype: int64"
      ]
     },
     "execution_count": 20,
     "metadata": {},
     "output_type": "execute_result"
    }
   ],
   "source": [
    "# Cell to plot countplot.\n",
    "count = data['label'].value_counts()\n",
    "count\n",
    "#Which class has the highest frequency?\n",
    "#Reggae\n",
    "#Blues\n",
    "#Jazz\n",
    "#All of these"
   ]
  },
  {
   "cell_type": "code",
   "execution_count": 30,
   "metadata": {},
   "outputs": [
    {
     "data": {
      "image/png": "[encoded data removed]",
      "text/plain": [
       "<Figure size 432x288 with 1 Axes>"
      ]
     },
     "metadata": {
      "needs_background": "light"
     },
     "output_type": "display_data"
    }
   ],
   "source": [
    "from seaborn import countplot\n",
    "from matplotlib.pyplot import figure, show\n",
    "countplot(data=count,y=count)\n",
    "show()"
   ]
  },
  {
   "cell_type": "markdown",
   "metadata": {},
   "source": [
    "3. #### Draw a boxplot for the tempo vs labels column. Think carefully about what a boxplot represents."
   ]
  },
  {
   "cell_type": "code",
   "execution_count": null,
   "metadata": {},
   "outputs": [],
   "source": [
    "data.dtypes"
   ]
  },
  {
   "cell_type": "code",
   "execution_count": 35,
   "metadata": {},
   "outputs": [
    {
     "data": {
      "text/plain": [
       "Text(0, 0.5, 'BPM')"
      ]
     },
     "execution_count": 35,
     "metadata": {},
     "output_type": "execute_result"
    },
    {
     "data": {
      "image/png": "[encoded data removed]",
      "text/plain": [
       "<Figure size 1080x576 with 1 Axes>"
      ]
     },
     "metadata": {
      "needs_background": "light"
     },
     "output_type": "display_data"
    }
   ],
   "source": [
    "# Cell to plot boxplot. A few lines to get you started.\n",
    "x = data[[\"label\", \"tempo\"]]\n",
    "\n",
    "fig, ax = plt.subplots(figsize=(15, 8));\n",
    "sns.boxplot(x = \"label\", y = \"tempo\", data = x, palette = 'husl');\n",
    "\n",
    "plt.title('BPM Boxplot for Genres', fontsize = 20)\n",
    "plt.xticks(fontsize = 14)\n",
    "plt.yticks(fontsize = 10);\n",
    "plt.xlabel(\"Genre\", fontsize = 15)\n",
    "plt.ylabel(\"BPM\", fontsize = 15)\n",
    "#plt.savefig(\"BPM_Boxplot.png\")\n",
    "\n",
    "# data[[\"label\", \"tempo\"]]"
   ]
  },
  {
   "cell_type": "code",
   "execution_count": 39,
   "metadata": {},
   "outputs": [
    {
     "data": {
      "text/html": [
       "<div>\n",
       "<style scoped>\n",
       "    .dataframe tbody tr th:only-of-type {\n",
       "        vertical-align: middle;\n",
       "    }\n",
       "\n",
       "    .dataframe tbody tr th {\n",
       "        vertical-align: top;\n",
       "    }\n",
       "\n",
       "    .dataframe thead th {\n",
       "        text-align: right;\n",
       "    }\n",
       "</style>\n",
       "<table border=\"1\" class=\"dataframe\">\n",
       "  <thead>\n",
       "    <tr style=\"text-align: right;\">\n",
       "      <th></th>\n",
       "      <th>rms_var</th>\n",
       "      <th>zero_crossing_rate_var</th>\n",
       "      <th>harmony_mean</th>\n",
       "      <th>perceptr_mean</th>\n",
       "    </tr>\n",
       "  </thead>\n",
       "  <tbody>\n",
       "    <tr>\n",
       "      <th>0</th>\n",
       "      <td>0.003521</td>\n",
       "      <td>0.000558</td>\n",
       "      <td>-0.000078</td>\n",
       "      <td>-0.000068</td>\n",
       "    </tr>\n",
       "    <tr>\n",
       "      <th>1</th>\n",
       "      <td>0.001450</td>\n",
       "      <td>0.001030</td>\n",
       "      <td>-0.000099</td>\n",
       "      <td>-0.000103</td>\n",
       "    </tr>\n",
       "  </tbody>\n",
       "</table>\n",
       "</div>"
      ],
      "text/plain": [
       "    rms_var  zero_crossing_rate_var  harmony_mean  perceptr_mean\n",
       "0  0.003521                0.000558     -0.000078      -0.000068\n",
       "1  0.001450                0.001030     -0.000099      -0.000103"
      ]
     },
     "execution_count": 39,
     "metadata": {},
     "output_type": "execute_result"
    }
   ],
   "source": [
    "feature = data[['rms_var', 'zero_crossing_rate_var', 'harmony_mean','perceptr_mean']]\n",
    "feature.head(2)"
   ]
  },
  {
   "cell_type": "code",
   "execution_count": 44,
   "metadata": {},
   "outputs": [
    {
     "data": {
      "text/plain": [
       "Text(0, 0.5, 'BPM')"
      ]
     },
     "execution_count": 44,
     "metadata": {},
     "output_type": "execute_result"
    },
    {
     "data": {
      "image/png": "[encoded data removed]",
      "text/plain": [
       "<Figure size 1080x576 with 1 Axes>"
      ]
     },
     "metadata": {
      "needs_background": "light"
     },
     "output_type": "display_data"
    }
   ],
   "source": [
    "# Cell to plot boxplot. A few lines to get you started.\n",
    "x = data[['rms_var', 'zero_crossing_rate_var', 'harmony_mean','perceptr_mean']]\n",
    "\n",
    "fig, ax = plt.subplots(figsize=(15, 8));\n",
    "sns.boxplot(data = x, palette = 'husl');\n",
    "\n",
    "plt.title('BPM Boxplot for Genres', fontsize = 20)\n",
    "plt.xticks(fontsize = 14)\n",
    "plt.yticks(fontsize = 10);\n",
    "plt.xlabel(\"Genre\", fontsize = 15)\n",
    "plt.ylabel(\"BPM\", fontsize = 15)\n",
    "#plt.savefig(\"BPM_Boxplot.png\")"
   ]
  },
  {
   "cell_type": "markdown",
   "metadata": {},
   "source": [
    "Again, understand what a boxplot exactly represents. (Outlier analysis)"
   ]
  },
  {
   "cell_type": "markdown",
   "metadata": {},
   "source": [
    "### Now let's perform Machine Learning Classification. We'll be predicting the genre based on the given features."
   ]
  },
  {
   "cell_type": "code",
   "execution_count": 46,
   "metadata": {},
   "outputs": [
    {
     "name": "stdout",
     "output_type": "stream",
     "text": [
      "Collecting xgboost\n",
      "  Downloading xgboost-1.4.2-py3-none-manylinux2010_x86_64.whl (166.7 MB)\n",
      "\u001b[K     |████████████████████████████████| 166.7 MB 4.0 kB/s eta 0:00:01    |████████████▏                   | 63.1 MB 643 kB/s eta 0:02:41\n",
      "\u001b[?25hRequirement already satisfied: numpy in /home/m/anaconda3/lib/python3.8/site-packages (from xgboost) (1.20.1)\n",
      "Requirement already satisfied: scipy in /home/m/anaconda3/lib/python3.8/site-packages (from xgboost) (1.6.2)\n",
      "Installing collected packages: xgboost\n",
      "Successfully installed xgboost-1.4.2\n",
      "Note: you may need to restart the kernel to use updated packages.\n"
     ]
    }
   ],
   "source": [
    "pip install xgboost"
   ]
  },
  {
   "cell_type": "code",
   "execution_count": 3,
   "metadata": {},
   "outputs": [],
   "source": [
    "# These are the import statements referred to below:\n",
    "\n",
    "from sklearn.naive_bayes import GaussianNB\n",
    "from sklearn.linear_model import LogisticRegression\n",
    "from sklearn.neighbors import KNeighborsClassifier\n",
    "from sklearn.tree import DecisionTreeClassifier\n",
    "from sklearn.ensemble import RandomForestClassifier\n",
    "from xgboost import XGBClassifier, XGBRFClassifier\n",
    "from xgboost import plot_tree, plot_importance\n",
    "from sklearn.ensemble import AdaBoostClassifier\n",
    "\n",
    "from sklearn.metrics import confusion_matrix, accuracy_score, roc_auc_score, roc_curve\n",
    "from sklearn import preprocessing\n",
    "from sklearn.model_selection import train_test_split\n",
    "from sklearn.feature_selection import RFE"
   ]
  },
  {
   "cell_type": "markdown",
   "metadata": {},
   "source": [
    "### Documentation of each model. You can refer to there whenever stuck.\n",
    "\n",
    "GaussianNB: https://scikit-learn.org/stable/modules/generated/sklearn.naive_bayes.GaussianNB.html <br>\n",
    "LogisticRegression: https://scikit-learn.org/stable/modules/generated/sklearn.linear_model.LogisticRegression.html <br>\n",
    "KNeighborsClassifier: https://scikit-learn.org/stable/modules/generated/sklearn.neighbors.KNeighborsClassifier.html <br>\n",
    "DecisionTreeClassifier: https://scikit-learn.org/stable/modules/generated/sklearn.tree.DecisionTreeClassifier.html <br>\n",
    "RandomForestClassifier: https://scikit-learn.org/stable/modules/generated/sklearn.ensemble.RandomForestClassifier.html <br>\n",
    "XGBoost: https://xgboost.readthedocs.io/en/latest/ <br>\n",
    "AdaBoostClassifier: https://scikit-learn.org/stable/modules/generated/sklearn.ensemble.AdaBoostClassifier.html <br>"
   ]
  },
  {
   "cell_type": "code",
   "execution_count": null,
   "metadata": {},
   "outputs": [],
   "source": [
    "data = pd.read_csv('SA2021_W4_Music.csv')\n",
    "data.head()"
   ]
  },
  {
   "cell_type": "markdown",
   "metadata": {},
   "source": [
    "### Preprocess the data.\n",
    "\n",
    "Be careful when you play around with the cell below. Your final outputs depend on this."
   ]
  },
  {
   "cell_type": "code",
   "execution_count": 5,
   "metadata": {},
   "outputs": [
    {
     "name": "stdout",
     "output_type": "stream",
     "text": [
      "SHAPE: (3442, 59)\n"
     ]
    }
   ],
   "source": [
    "# DO NOT EDIT THIS CELL\n",
    "\n",
    "Q1 = data.quantile(0.25)\n",
    "Q3 = data.quantile(0.75)\n",
    "IQR = Q3 - Q1\n",
    "data = data[~((data < (Q1 - 1.5 * IQR)) |(data > (Q3 + 1.5 * IQR))).any(axis=1)]\n",
    "print(\"SHAPE:\",data.shape) #Why did the shape change? What happened?\n",
    "\n",
    "y = data['label'] # genre variable.\n",
    "X = data.loc[:, data.columns != 'label'] #select all columns but not the labels\n",
    "\n",
    "cols = X.columns\n",
    "min_max_scaler = preprocessing.MinMaxScaler()\n",
    "np_scaled = min_max_scaler.fit_transform(X)\n",
    "X = pd.DataFrame(np_scaled, columns = cols)"
   ]
  },
  {
   "cell_type": "markdown",
   "metadata": {},
   "source": [
    "Also pay attention to the preprocessing step. What did we exactly do?"
   ]
  },
  {
   "cell_type": "markdown",
   "metadata": {},
   "source": [
    "### Splitting the dataset: Do you know what stratify does?"
   ]
  },
  {
   "cell_type": "code",
   "execution_count": 6,
   "metadata": {},
   "outputs": [],
   "source": [
    "# DO NOT EDIT THIS CELL\n",
    "\n",
    "X_train, X_test, y_train, y_test = train_test_split(X, y,stratify = y,test_size=0.1, random_state=42)"
   ]
  },
  {
   "cell_type": "markdown",
   "metadata": {},
   "source": [
    "### Creating a Predefined function to assess the accuracy of a model. This will be the scoring function"
   ]
  },
  {
   "cell_type": "code",
   "execution_count": 7,
   "metadata": {},
   "outputs": [],
   "source": [
    "def score(model, title = \"Default\"):\n",
    "    model.fit(X_train, y_train)\n",
    "    preds = model.predict(X_test)X_test, y_train\n",
    "#     print(confusion_matrix(y_test, preds))\n",
    "    accuracy = round(accuracy_score(y_test, preds), 5)\n",
    "    print('Accuracy for', title, ':', accuracy, '\\n')"
   ]
  },
  {
   "cell_type": "markdown",
   "metadata": {},
   "source": [
    "This function trains/fits the model by itself. Just pass the model as shown below."
   ]
  },
  {
   "cell_type": "markdown",
   "metadata": {},
   "source": [
    "### Let's see how a basic Logistic Regressor works on this!"
   ]
  },
  {
   "cell_type": "code",
   "execution_count": 8,
   "metadata": {},
   "outputs": [
    {
     "name": "stdout",
     "output_type": "stream",
     "text": [
      "Accuracy for Logistic Regression : 0.74493 \n",
      "\n"
     ]
    }
   ],
   "source": [
    "lg = LogisticRegression(random_state=0, solver='lbfgs', multi_class='multinomial')\n",
    "score(lg, \"Logistic Regression\")"
   ]
  },
  {
   "cell_type": "markdown",
   "metadata": {},
   "source": [
    "The accuracy hovers around 74%. Do you think you can beat this? The kaggle microcourses would've surely taught you more than this!\n",
    "\n",
    "#### Now it's your turn. Train the following: "
   ]
  },
  {
   "cell_type": "markdown",
   "metadata": {},
   "source": [
    "4. **AdaBoostClassifier** with n_estimators=1000 & random_state=0\n",
    "5. **RandomForestClassifier** with n_estimators=1000, max_depth=10, random_state=0\n",
    "\n",
    "**IMPORTANT**: Use the default values for other hyper parameters. Do **NOT** change these values "
   ]
  },
  {
   "cell_type": "code",
   "execution_count": 1,
   "metadata": {},
   "outputs": [],
   "source": [
    "# AdaBoostClassifier\n",
    "#YOUR CODE HERE\n",
    "# Split dataset into training set and test set\n",
    "#X_train, X_test, y_train, y_test = train_test_split(X, y, test_size=0.1)\n",
    "# Create adaboost classifer object\n",
    "#abc = AdaBoostClassifier(n_estimators=1000,random_state=0)\n",
    "\n",
    "#PRint the score\n",
    "#score(abc, \"AdaBoostClassifier\")"
   ]
  },
  {
   "cell_type": "code",
   "execution_count": 22,
   "metadata": {},
   "outputs": [
    {
     "name": "stdout",
     "output_type": "stream",
     "text": [
      "Accuracy for adaboost: 0.32174 \n",
      "\n"
     ]
    }
   ],
   "source": [
    "# Create adaboost classifer object\n",
    "X_train, X_test, y_train, y_test = train_test_split(X, y,stratify = y,test_size=0.1, random_state=42)\n",
    "x_model = AdaBoostClassifier(n_estimators=1000,random_state=0)\n",
    "\n",
    "# Train Adaboost Classifer\n",
    "x_model.fit(X_train, y_train)\n",
    "\n",
    "XGBClassifier\n",
    "#Predict the response for test dataset\n",
    "x_pred = x_model.predict(X_test)\n",
    "\n",
    "accuracy = round(accuracy_score(y_test, x_pred),5)\n",
    "print('Accuracy for adaboost:',accuracy, '\\n')"
   ]
  },
  {
   "cell_type": "code",
   "execution_count": 21,
   "metadata": {},
   "outputs": [
    {
     "name": "stdout",
     "output_type": "stream",
     "text": [
      "Accuracy for Random Forest: 0.84348\n"
     ]
    }
   ],
   "source": [
    "# Random Forest\n",
    "#YOUR CODE HERE\n",
    "#RandomForestClassifier with n_estimators=1000, max_depth=10, random_state=0\n",
    "X_train, X_test, y_train, y_test = train_test_X_test, y_trainsplit(X, y,stratify = y,test_size=0.1, random_state=42)\n",
    "f_model = RandomForestClassifier(n_estimators=1000,max_depth=10,random_state=0)\n",
    "f_model.fit(X_train, y_train) = f_model.predict(X_test)\n",
    "accuracy = round(accuracy_score(y_test, f_pred),5)\n",
    "print('Accuracy for Random Forest:',accuracy)"
   ]
  },
  {
   "cell_type": "markdown",
   "metadata": {},
   "source": [
    "AdaBoost performs poorly, but Random Forest looks great!"
   ]
  },
  {
   "cell_type": "markdown",
   "metadata": {},
   "source": [
    "#### Now look at the import statements. There may be a few models you may or may not have seen. Use those models to beat the score you achieved in the cell above! Play around with their hyper parameters.\n",
    "\n",
    "We suggest going through their documentations before using them."
   ]
  },
  {
   "cell_type": "code",
   "execution_count": null,
   "metadata": {},
   "outputs": [],
   "source": [
    "# Naive Bayes: GaussianNB\n",
    "#YOUR CODE HERE\n",
    "\n",
    "# KNN: KNeighborsClassifier\n",
    "#YOUR CODE HERE\n",
    "\n",
    "# Decission trees: DecisionTreeClassifier\n",
    "#YOUR CODE HERE\n"
   ]
  },
  {
   "cell_type": "markdown",
   "metadata": {},
   "source": [
    "6. Did you beat the score yet? Chances are you couldn't. Prove us wrong! Use **XGBClassifier** with n_estimators=1000 and learning_rate=0.05"
   ]
  },
  {
   "cell_type": "code",
   "execution_count": 24,
   "metadata": {},
   "outputs": [
    {
     "name": "stdout",
     "output_type": "stream",
     "text": [
      "[23:33:11] WARNING: ../src/learner.cc:1095: Starting in XGBoost 1.3.0, the default evaluation metric used with the objective 'multi:softprob' was changed from 'merror' to 'mlogloss'. Explicitly set eval_metric if you'd like to restore the old behavior.\n",
      "Accuracy for adaboost: 0.87246 \n",
      "\n"
     ]
    }
   ],
   "source": [
    "# XGBClassifier\n",
    "#YOUR CODE HERE\n",
    "X_train, X_test, y_train, y_test = train_test_split(X, y,stratify = y,test_size=0.1, random_state=42)\n",
    "xgb_model = XGBClassifier(n_estimators=1000,learning_rate=0.05)\n",
    "\n",
    "# Train Adaboost Classifer\n",
    "xgb_model.fit(X_train, y_train)\n",
    "\n",
    "\n",
    "#Predict the response for test dataset\n",
    "xgb_pred = xgb_model.predict(X_test)\n",
    "\n",
    "accuracy = round(accuracy_score(y_test, xgb_pred),5)\n",
    "print('Accuracy for adaboost:',accuracy, '\\n')"
   ]
  },
  {
   "cell_type": "markdown",
   "metadata": {},
   "source": [
    "You should've beaten the score by now. Now, heres a task for you. Try **XGBRFClassifier** on your own."
   ]
  },
  {
   "cell_type": "code",
   "execution_count": 25,
   "metadata": {},
   "outputs": [
    {
     "name": "stdout",
     "output_type": "stream",
     "text": [
      "[23:44:01] WARNING: ../src/learner.cc:1095: Starting in XGBoost 1.3.0, the default evaluation metric used with the objective 'multi:softprob' was changed from 'merror' to 'mlogloss'. Explicitly set eval_metric if you'd like to restore the old behavior.\n",
      "Accuracy for adaboost: 0.78841 \n",
      "\n"
     ]
    }
   ],
   "source": [
    "# XGBRFClassifier\n",
    "#YOUR CODE HERE\n",
    "X_train, X_test, y_train, y_test = train_test_split(X, y,stratify = y,test_size=0.1, random_state=42)\n",
    "xgbr_model = XGBRFClassifier(n_estimators=1000,learning_rate=0.05)\n",
    "\n",
    "# Train Adaboost Classifer\n",
    "xgbr_model.fit(X_train, y_train)\n",
    "\n",
    "\n",
    "#Predict the response for test dataset\n",
    "xgbr_pred = xgbr_model.predict(X_test)\n",
    "\n",
    "accuracy = round(accuracy_score(y_test, xgbr_pred),5)\n",
    "print('Accuracy for adaboost:',accuracy, '\\n')"
   ]
  },
  {
   "cell_type": "markdown",
   "metadata": {},
   "source": [
    "### Till now, it looks like XGBClassifier performs the best. Let's experiment with it a bit more."
   ]
  },
  {
   "cell_type": "markdown",
   "metadata": {},
   "source": [
    "7. Plot the Confusion Matrix for XGBClassifier with parameters n_estimators=1000, learning_rate=0.05"
   ]
  },
  {
   "cell_type": "code",
   "execution_count": null,
   "metadata": {},
   "outputs": [],
   "source": [
    "# Cell to plot Confusion Matrix\n",
    "#YOUR CODE HERE\n"
   ]
  },
  {
   "cell_type": "markdown",
   "metadata": {},
   "source": [
    "8. Find the feature importance for XGBClassifier. \n",
    "\n",
    "*Hint: It's an inbuilt member variable*"
   ]
  },
  {
   "cell_type": "code",
   "execution_count": null,
   "metadata": {},
   "outputs": [],
   "source": [
    "# Cell to find Feature Importance\n",
    "#YOUR CODE HERE\n"
   ]
  }
 ],
 "metadata": {
  "kernelspec": {
   "display_name": "Python 3",
   "language": "python",
   "name": "python3"
  },
  "language_info": {
   "codemirror_mode": {
    "name": "ipython",
    "version": 3
   },
   "file_extension": ".py",
   "mimetype": "text/x-python",
   "name": "python",
   "nbconvert_exporter": "python",
   "pygments_lexer": "ipython3",
   "version": "3.8.8"
  }
 },
 "nbformat": 4,
 "nbformat_minor": 4
}
